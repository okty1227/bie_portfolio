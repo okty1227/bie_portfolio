{
 "cells": [
  {
   "cell_type": "code",
   "execution_count": 2,
   "id": "8068ffd2-0d30-49f0-88c7-74cd788a05a8",
   "metadata": {},
   "outputs": [],
   "source": [
    "from pyspark.sql import SparkSession\n",
    "\n",
    "spark = SparkSession.builder.getOrCreate()\n",
    "spark.conf.set(\"spark.sql.repl.eagerEval.enabled\", True) \n",
    "# df = spark.read.option('header',True).csv('info5100-hw-assignment/US_Accidents_March23.csv') ##copy full path"
   ]
  },
  {
   "cell_type": "code",
   "execution_count": 29,
   "id": "d639eb9e-ada9-4b24-bc0e-cf36c9613eb0",
   "metadata": {},
   "outputs": [],
   "source": [
    "from pyspark.sql.functions import year\n",
    "from pyspark.sql.functions import month\n",
    "from pyspark.sql.functions import day\n",
    "\n",
    "from pyspark.sql.functions import udf\n",
    "from pyspark.sql.types import StringType"
   ]
  },
  {
   "cell_type": "code",
   "execution_count": 9,
   "id": "14f81e58-d062-49e5-a3e2-13563c6aef30",
   "metadata": {},
   "outputs": [],
   "source": [
    "df = spark.read.csv('info5100-hw-assignment/US_Accidents_March23.csv', header=True, inferSchema=True)\n"
   ]
  },
  {
   "cell_type": "code",
   "execution_count": 7,
   "id": "4b961a96-4598-4ce7-adb7-f64d81c374e0",
   "metadata": {
    "scrolled": true
   },
   "outputs": [
    {
     "name": "stdout",
     "output_type": "stream",
     "text": [
      "root\n",
      " |-- ID: string (nullable = true)\n",
      " |-- Source: string (nullable = true)\n",
      " |-- Severity: integer (nullable = true)\n",
      " |-- Start_Time: timestamp (nullable = true)\n",
      " |-- End_Time: timestamp (nullable = true)\n",
      " |-- Start_Lat: double (nullable = true)\n",
      " |-- Start_Lng: double (nullable = true)\n",
      " |-- End_Lat: double (nullable = true)\n",
      " |-- End_Lng: double (nullable = true)\n",
      " |-- Distance(mi): double (nullable = true)\n",
      " |-- Description: string (nullable = true)\n",
      " |-- Street: string (nullable = true)\n",
      " |-- City: string (nullable = true)\n",
      " |-- County: string (nullable = true)\n",
      " |-- State: string (nullable = true)\n",
      " |-- Zipcode: string (nullable = true)\n",
      " |-- Country: string (nullable = true)\n",
      " |-- Timezone: string (nullable = true)\n",
      " |-- Airport_Code: string (nullable = true)\n",
      " |-- Weather_Timestamp: timestamp (nullable = true)\n",
      " |-- Temperature(F): double (nullable = true)\n",
      " |-- Wind_Chill(F): double (nullable = true)\n",
      " |-- Humidity(%): double (nullable = true)\n",
      " |-- Pressure(in): double (nullable = true)\n",
      " |-- Visibility(mi): double (nullable = true)\n",
      " |-- Wind_Direction: string (nullable = true)\n",
      " |-- Wind_Speed(mph): double (nullable = true)\n",
      " |-- Precipitation(in): double (nullable = true)\n",
      " |-- Weather_Condition: string (nullable = true)\n",
      " |-- Amenity: boolean (nullable = true)\n",
      " |-- Bump: boolean (nullable = true)\n",
      " |-- Crossing: boolean (nullable = true)\n",
      " |-- Give_Way: boolean (nullable = true)\n",
      " |-- Junction: boolean (nullable = true)\n",
      " |-- No_Exit: boolean (nullable = true)\n",
      " |-- Railway: boolean (nullable = true)\n",
      " |-- Roundabout: boolean (nullable = true)\n",
      " |-- Station: boolean (nullable = true)\n",
      " |-- Stop: boolean (nullable = true)\n",
      " |-- Traffic_Calming: boolean (nullable = true)\n",
      " |-- Traffic_Signal: boolean (nullable = true)\n",
      " |-- Turning_Loop: boolean (nullable = true)\n",
      " |-- Sunrise_Sunset: string (nullable = true)\n",
      " |-- Civil_Twilight: string (nullable = true)\n",
      " |-- Nautical_Twilight: string (nullable = true)\n",
      " |-- Astronomical_Twilight: string (nullable = true)\n",
      "\n"
     ]
    }
   ],
   "source": [
    "df.printSchema()"
   ]
  },
  {
   "cell_type": "code",
   "execution_count": 35,
   "id": "60b98871-4220-4df9-8e32-3977dc07edf4",
   "metadata": {
    "scrolled": true
   },
   "outputs": [],
   "source": [
    "df = df.select('Severity','Start_Time','City','County','State'\n",
    "            ,'Airport_Code','Temperature(F)','Wind_Chill(F)','Humidity(%)','Visibility(mi)','Weather_Condition'\n",
    "            ,'Amenity'\n",
    "            ,'Bump'\n",
    "            ,'Crossing'\n",
    "            ,'Give_Way'\n",
    "            ,'Junction'\n",
    "            ,'No_Exit'\n",
    "            ,'Railway'\n",
    "            ,'Roundabout'\n",
    "            ,'Stop'\n",
    "            ,'Traffic_Calming'\n",
    "            ,'Traffic_Signal'\n",
    "            ,'Turning_Loop'\n",
    "            ,'Sunrise_Sunset'\n",
    "            ,'Civil_Twilight')        "
   ]
  },
  {
   "cell_type": "code",
   "execution_count": 37,
   "id": "831c7c17-efc0-43be-9a08-24c9c3a29d02",
   "metadata": {},
   "outputs": [],
   "source": [
    "df = df.withColumn('Year',year(df['Start_Time']))\n",
    "df = df.withColumn('Month',month(df['Start_Time']))\n",
    "df = df.withColumn('day',day(df['Start_Time']))"
   ]
  },
  {
   "cell_type": "code",
   "execution_count": 38,
   "id": "1861ac98-a6c1-4b4d-b68e-1fa23fc6d2d4",
   "metadata": {},
   "outputs": [
    {
     "data": {
      "text/html": [
       "<table border='1'>\n",
       "<tr><th>Severity</th><th>Start_Time</th><th>City</th><th>County</th><th>State</th><th>Airport_Code</th><th>Temperature(F)</th><th>Wind_Chill(F)</th><th>Humidity(%)</th><th>Visibility(mi)</th><th>Weather_Condition</th><th>Amenity</th><th>Bump</th><th>Crossing</th><th>Give_Way</th><th>Junction</th><th>No_Exit</th><th>Railway</th><th>Roundabout</th><th>Station</th><th>Stop</th><th>Traffic_Calming</th><th>Traffic_Signal</th><th>Turning_Loop</th><th>Sunrise_Sunset</th><th>Civil_Twilight</th><th>Year</th><th>Month</th><th>day</th></tr>\n",
       "<tr><td>3</td><td>2016-02-08 05:46:00</td><td>Dayton</td><td>Montgomery</td><td>OH</td><td>KFFO</td><td>36.9</td><td>NULL</td><td>91.0</td><td>10.0</td><td>Light Rain</td><td>false</td><td>false</td><td>false</td><td>false</td><td>false</td><td>false</td><td>false</td><td>false</td><td>false</td><td>false</td><td>false</td><td>false</td><td>false</td><td>Night</td><td>Night</td><td>2016</td><td>2</td><td>8</td></tr>\n",
       "<tr><td>2</td><td>2016-02-08 06:07:59</td><td>Reynoldsburg</td><td>Franklin</td><td>OH</td><td>KCMH</td><td>37.9</td><td>NULL</td><td>100.0</td><td>10.0</td><td>Light Rain</td><td>false</td><td>false</td><td>false</td><td>false</td><td>false</td><td>false</td><td>false</td><td>false</td><td>false</td><td>false</td><td>false</td><td>false</td><td>false</td><td>Night</td><td>Night</td><td>2016</td><td>2</td><td>8</td></tr>\n",
       "<tr><td>2</td><td>2016-02-08 06:49:27</td><td>Williamsburg</td><td>Clermont</td><td>OH</td><td>KI69</td><td>36.0</td><td>33.3</td><td>100.0</td><td>10.0</td><td>Overcast</td><td>false</td><td>false</td><td>false</td><td>false</td><td>false</td><td>false</td><td>false</td><td>false</td><td>false</td><td>false</td><td>false</td><td>true</td><td>false</td><td>Night</td><td>Night</td><td>2016</td><td>2</td><td>8</td></tr>\n",
       "<tr><td>3</td><td>2016-02-08 07:23:34</td><td>Dayton</td><td>Montgomery</td><td>OH</td><td>KDAY</td><td>35.1</td><td>31.0</td><td>96.0</td><td>9.0</td><td>Mostly Cloudy</td><td>false</td><td>false</td><td>false</td><td>false</td><td>false</td><td>false</td><td>false</td><td>false</td><td>false</td><td>false</td><td>false</td><td>false</td><td>false</td><td>Night</td><td>Day</td><td>2016</td><td>2</td><td>8</td></tr>\n",
       "<tr><td>2</td><td>2016-02-08 07:39:07</td><td>Dayton</td><td>Montgomery</td><td>OH</td><td>KMGY</td><td>36.0</td><td>33.3</td><td>89.0</td><td>6.0</td><td>Mostly Cloudy</td><td>false</td><td>false</td><td>false</td><td>false</td><td>false</td><td>false</td><td>false</td><td>false</td><td>false</td><td>false</td><td>false</td><td>true</td><td>false</td><td>Day</td><td>Day</td><td>2016</td><td>2</td><td>8</td></tr>\n",
       "</table>\n"
      ],
      "text/plain": [
       "+--------+-------------------+------------+----------+-----+------------+--------------+-------------+-----------+--------------+-----------------+-------+-----+--------+--------+--------+-------+-------+----------+-------+-----+---------------+--------------+------------+--------------+--------------+----+-----+---+\n",
       "|Severity|         Start_Time|        City|    County|State|Airport_Code|Temperature(F)|Wind_Chill(F)|Humidity(%)|Visibility(mi)|Weather_Condition|Amenity| Bump|Crossing|Give_Way|Junction|No_Exit|Railway|Roundabout|Station| Stop|Traffic_Calming|Traffic_Signal|Turning_Loop|Sunrise_Sunset|Civil_Twilight|Year|Month|day|\n",
       "+--------+-------------------+------------+----------+-----+------------+--------------+-------------+-----------+--------------+-----------------+-------+-----+--------+--------+--------+-------+-------+----------+-------+-----+---------------+--------------+------------+--------------+--------------+----+-----+---+\n",
       "|       3|2016-02-08 05:46:00|      Dayton|Montgomery|   OH|        KFFO|          36.9|         NULL|       91.0|          10.0|       Light Rain|  false|false|   false|   false|   false|  false|  false|     false|  false|false|          false|         false|       false|         Night|         Night|2016|    2|  8|\n",
       "|       2|2016-02-08 06:07:59|Reynoldsburg|  Franklin|   OH|        KCMH|          37.9|         NULL|      100.0|          10.0|       Light Rain|  false|false|   false|   false|   false|  false|  false|     false|  false|false|          false|         false|       false|         Night|         Night|2016|    2|  8|\n",
       "|       2|2016-02-08 06:49:27|Williamsburg|  Clermont|   OH|        KI69|          36.0|         33.3|      100.0|          10.0|         Overcast|  false|false|   false|   false|   false|  false|  false|     false|  false|false|          false|          true|       false|         Night|         Night|2016|    2|  8|\n",
       "|       3|2016-02-08 07:23:34|      Dayton|Montgomery|   OH|        KDAY|          35.1|         31.0|       96.0|           9.0|    Mostly Cloudy|  false|false|   false|   false|   false|  false|  false|     false|  false|false|          false|         false|       false|         Night|           Day|2016|    2|  8|\n",
       "|       2|2016-02-08 07:39:07|      Dayton|Montgomery|   OH|        KMGY|          36.0|         33.3|       89.0|           6.0|    Mostly Cloudy|  false|false|   false|   false|   false|  false|  false|     false|  false|false|          false|          true|       false|           Day|           Day|2016|    2|  8|\n",
       "+--------+-------------------+------------+----------+-----+------------+--------------+-------------+-----------+--------------+-----------------+-------+-----+--------+--------+--------+-------+-------+----------+-------+-----+---------------+--------------+------------+--------------+--------------+----+-----+---+"
      ]
     },
     "execution_count": 38,
     "metadata": {},
     "output_type": "execute_result"
    }
   ],
   "source": [
    "df.limit(5)"
   ]
  },
  {
   "cell_type": "code",
   "execution_count": 47,
   "id": "f5fb9d61-8fee-4921-a0e6-751f6774e1b3",
   "metadata": {},
   "outputs": [
    {
     "data": {
      "text/html": [
       "<table border='1'>\n",
       "<tr><th>Severity</th><th>count(Severity)</th></tr>\n",
       "<tr><td>1</td><td>67366</td></tr>\n",
       "<tr><td>3</td><td>1299337</td></tr>\n",
       "<tr><td>4</td><td>204710</td></tr>\n",
       "<tr><td>2</td><td>6156981</td></tr>\n",
       "</table>\n"
      ],
      "text/plain": [
       "+--------+---------------+\n",
       "|Severity|count(Severity)|\n",
       "+--------+---------------+\n",
       "|       1|          67366|\n",
       "|       3|        1299337|\n",
       "|       4|         204710|\n",
       "|       2|        6156981|\n",
       "+--------+---------------+"
      ]
     },
     "execution_count": 47,
     "metadata": {},
     "output_type": "execute_result"
    }
   ],
   "source": [
    "df.groupby('Severity').agg({'Severity':'count'})"
   ]
  },
  {
   "cell_type": "code",
   "execution_count": 48,
   "id": "7856622a-3028-4f63-92f1-bd52a91291a4",
   "metadata": {},
   "outputs": [],
   "source": [
    "df.write.csv(\"output.csv\", header=True, mode=\"overwrite\")"
   ]
  },
  {
   "cell_type": "code",
   "execution_count": 49,
   "id": "def2c918-cfaf-4e57-ad27-1c16efcfaaf9",
   "metadata": {},
   "outputs": [
    {
     "name": "stdout",
     "output_type": "stream",
     "text": [
      "\u001b[0m\u001b[01;34minfo5100-hw-assignment\u001b[0m/  \u001b[01;34moutput.csv\u001b[0m/  Untitled.ipynb  untitled.py  \u001b[01;34mwork\u001b[0m/\n"
     ]
    }
   ],
   "source": [
    "ls"
   ]
  },
  {
   "cell_type": "code",
   "execution_count": 64,
   "id": "b6db5768-0228-44bd-8231-7529b276bd36",
   "metadata": {},
   "outputs": [
    {
     "data": {
      "text/plain": [
       "18"
      ]
     },
     "execution_count": 64,
     "metadata": {},
     "output_type": "execute_result"
    }
   ],
   "source": [
    "df.where(df.City =='Ithaca').count()"
   ]
  },
  {
   "cell_type": "code",
   "execution_count": 69,
   "id": "4e112b05-40f7-41b4-820c-00d7c8fd6081",
   "metadata": {},
   "outputs": [],
   "source": [
    "nydf = df.where(df.State=='NY')"
   ]
  },
  {
   "cell_type": "code",
   "execution_count": 66,
   "id": "6be7f169-ea29-451b-be85-294ddda0ff53",
   "metadata": {},
   "outputs": [
    {
     "data": {
      "text/html": [
       "<table border='1'>\n",
       "<tr><th>Severity</th><th>Start_Time</th><th>City</th><th>County</th><th>State</th><th>Airport_Code</th><th>Temperature(F)</th><th>Wind_Chill(F)</th><th>Humidity(%)</th><th>Visibility(mi)</th><th>Weather_Condition</th><th>Amenity</th><th>Bump</th><th>Crossing</th><th>Give_Way</th><th>Junction</th><th>No_Exit</th><th>Railway</th><th>Roundabout</th><th>Station</th><th>Stop</th><th>Traffic_Calming</th><th>Traffic_Signal</th><th>Turning_Loop</th><th>Sunrise_Sunset</th><th>Civil_Twilight</th><th>Year</th><th>Month</th><th>day</th></tr>\n",
       "<tr><td>2</td><td>2020-12-31 10:47:49</td><td>Lockport</td><td>Niagara</td><td>NY</td><td>KIAG</td><td>32.0</td><td>23.0</td><td>64.0</td><td>10.0</td><td>Cloudy</td><td>false</td><td>false</td><td>false</td><td>false</td><td>false</td><td>false</td><td>false</td><td>false</td><td>false</td><td>false</td><td>false</td><td>false</td><td>false</td><td>Day</td><td>Day</td><td>2020</td><td>12</td><td>31</td></tr>\n",
       "<tr><td>2</td><td>2020-12-31 13:24:43</td><td>North Tonawanda</td><td>Niagara</td><td>NY</td><td>KIAG</td><td>34.0</td><td>27.0</td><td>67.0</td><td>10.0</td><td>Cloudy</td><td>false</td><td>false</td><td>false</td><td>false</td><td>false</td><td>false</td><td>false</td><td>false</td><td>false</td><td>false</td><td>false</td><td>true</td><td>false</td><td>Day</td><td>Day</td><td>2020</td><td>12</td><td>31</td></tr>\n",
       "<tr><td>3</td><td>2020-12-31 13:29:34</td><td>Silver Creek</td><td>Chautauqua</td><td>NY</td><td>KDKK</td><td>37.0</td><td>30.0</td><td>54.0</td><td>10.0</td><td>Fair</td><td>false</td><td>false</td><td>false</td><td>false</td><td>false</td><td>false</td><td>false</td><td>false</td><td>false</td><td>false</td><td>false</td><td>false</td><td>false</td><td>Day</td><td>Day</td><td>2020</td><td>12</td><td>31</td></tr>\n",
       "<tr><td>2</td><td>2020-12-31 10:56:46</td><td>Red Hook</td><td>Dutchess</td><td>NY</td><td>KPOU</td><td>42.0</td><td>38.0</td><td>79.0</td><td>10.0</td><td>Cloudy</td><td>false</td><td>false</td><td>false</td><td>false</td><td>false</td><td>false</td><td>false</td><td>false</td><td>false</td><td>false</td><td>false</td><td>false</td><td>false</td><td>Day</td><td>Day</td><td>2020</td><td>12</td><td>31</td></tr>\n",
       "<tr><td>2</td><td>2020-12-31 05:13:53</td><td>Mayfield</td><td>Fulton</td><td>NY</td><td>KSCH</td><td>36.0</td><td>30.0</td><td>87.0</td><td>15.0</td><td>Cloudy</td><td>false</td><td>false</td><td>false</td><td>false</td><td>false</td><td>false</td><td>false</td><td>false</td><td>false</td><td>true</td><td>false</td><td>false</td><td>false</td><td>Night</td><td>Night</td><td>2020</td><td>12</td><td>31</td></tr>\n",
       "</table>\n"
      ],
      "text/plain": [
       "+--------+-------------------+---------------+----------+-----+------------+--------------+-------------+-----------+--------------+-----------------+-------+-----+--------+--------+--------+-------+-------+----------+-------+-----+---------------+--------------+------------+--------------+--------------+----+-----+---+\n",
       "|Severity|         Start_Time|           City|    County|State|Airport_Code|Temperature(F)|Wind_Chill(F)|Humidity(%)|Visibility(mi)|Weather_Condition|Amenity| Bump|Crossing|Give_Way|Junction|No_Exit|Railway|Roundabout|Station| Stop|Traffic_Calming|Traffic_Signal|Turning_Loop|Sunrise_Sunset|Civil_Twilight|Year|Month|day|\n",
       "+--------+-------------------+---------------+----------+-----+------------+--------------+-------------+-----------+--------------+-----------------+-------+-----+--------+--------+--------+-------+-------+----------+-------+-----+---------------+--------------+------------+--------------+--------------+----+-----+---+\n",
       "|       2|2020-12-31 10:47:49|       Lockport|   Niagara|   NY|        KIAG|          32.0|         23.0|       64.0|          10.0|           Cloudy|  false|false|   false|   false|   false|  false|  false|     false|  false|false|          false|         false|       false|           Day|           Day|2020|   12| 31|\n",
       "|       2|2020-12-31 13:24:43|North Tonawanda|   Niagara|   NY|        KIAG|          34.0|         27.0|       67.0|          10.0|           Cloudy|  false|false|   false|   false|   false|  false|  false|     false|  false|false|          false|          true|       false|           Day|           Day|2020|   12| 31|\n",
       "|       3|2020-12-31 13:29:34|   Silver Creek|Chautauqua|   NY|        KDKK|          37.0|         30.0|       54.0|          10.0|             Fair|  false|false|   false|   false|   false|  false|  false|     false|  false|false|          false|         false|       false|           Day|           Day|2020|   12| 31|\n",
       "|       2|2020-12-31 10:56:46|       Red Hook|  Dutchess|   NY|        KPOU|          42.0|         38.0|       79.0|          10.0|           Cloudy|  false|false|   false|   false|   false|  false|  false|     false|  false|false|          false|         false|       false|           Day|           Day|2020|   12| 31|\n",
       "|       2|2020-12-31 05:13:53|       Mayfield|    Fulton|   NY|        KSCH|          36.0|         30.0|       87.0|          15.0|           Cloudy|  false|false|   false|   false|   false|  false|  false|     false|  false| true|          false|         false|       false|         Night|         Night|2020|   12| 31|\n",
       "+--------+-------------------+---------------+----------+-----+------------+--------------+-------------+-----------+--------------+-----------------+-------+-----+--------+--------+--------+-------+-------+----------+-------+-----+---------------+--------------+------------+--------------+--------------+----+-----+---+"
      ]
     },
     "execution_count": 66,
     "metadata": {},
     "output_type": "execute_result"
    }
   ],
   "source": [
    "nydf.limit(5)"
   ]
  },
  {
   "cell_type": "code",
   "execution_count": 70,
   "id": "17d5eaba-4658-4b61-ba42-7b966a288bfc",
   "metadata": {},
   "outputs": [],
   "source": [
    "nydf.write.csv('nytraffic.csv')"
   ]
  },
  {
   "cell_type": "code",
   "execution_count": 71,
   "id": "333ae2fb-6eaa-48e0-9c51-d52877252f9a",
   "metadata": {},
   "outputs": [
    {
     "data": {
      "text/html": [
       "<table border='1'>\n",
       "<tr><th>County</th></tr>\n",
       "<tr><td>Cayuga</td></tr>\n",
       "<tr><td>Ulster</td></tr>\n",
       "<tr><td>Kings</td></tr>\n",
       "<tr><td>Monroe</td></tr>\n",
       "<tr><td>Queens</td></tr>\n",
       "<tr><td>Oneida</td></tr>\n",
       "<tr><td>Orange</td></tr>\n",
       "<tr><td>Steuben</td></tr>\n",
       "<tr><td>Otsego</td></tr>\n",
       "<tr><td>Montgomery</td></tr>\n",
       "<tr><td>Tompkins</td></tr>\n",
       "<tr><td>Albany</td></tr>\n",
       "<tr><td>Fulton</td></tr>\n",
       "<tr><td>Genesee</td></tr>\n",
       "<tr><td>Rockland</td></tr>\n",
       "<tr><td>Saratoga</td></tr>\n",
       "<tr><td>Sullivan</td></tr>\n",
       "<tr><td>St. Lawrence</td></tr>\n",
       "<tr><td>Washington</td></tr>\n",
       "<tr><td>Madison</td></tr>\n",
       "</table>\n",
       "only showing top 20 rows\n"
      ],
      "text/plain": [
       "+------------+\n",
       "|      County|\n",
       "+------------+\n",
       "|      Cayuga|\n",
       "|      Ulster|\n",
       "|       Kings|\n",
       "|      Monroe|\n",
       "|      Queens|\n",
       "|      Oneida|\n",
       "|      Orange|\n",
       "|     Steuben|\n",
       "|      Otsego|\n",
       "|  Montgomery|\n",
       "|    Tompkins|\n",
       "|      Albany|\n",
       "|      Fulton|\n",
       "|     Genesee|\n",
       "|    Rockland|\n",
       "|    Saratoga|\n",
       "|    Sullivan|\n",
       "|St. Lawrence|\n",
       "|  Washington|\n",
       "|     Madison|\n",
       "+------------+\n",
       "only showing top 20 rows"
      ]
     },
     "execution_count": 71,
     "metadata": {},
     "output_type": "execute_result"
    }
   ],
   "source": [
    "nydf.select('County').distinct()"
   ]
  },
  {
   "cell_type": "code",
   "execution_count": 80,
   "id": "9eee3886-8089-4291-bec4-bd0fc96aa170",
   "metadata": {},
   "outputs": [],
   "source": [
    "nycdf = nydf.filter((nydf.County=='New York') | (nydf.County=='Kings')\\\n",
    "             | (nydf.County=='Bronx') | (nydf.County=='Richmond') | (nydf.County=='Queens'))"
   ]
  },
  {
   "cell_type": "code",
   "execution_count": 82,
   "id": "eb934657-74d6-498c-82e4-562cbee0b5fb",
   "metadata": {},
   "outputs": [
    {
     "data": {
      "text/plain": [
       "27839"
      ]
     },
     "execution_count": 82,
     "metadata": {},
     "output_type": "execute_result"
    }
   ],
   "source": [
    "nycdf.count()"
   ]
  },
  {
   "cell_type": "code",
   "execution_count": 100,
   "id": "f873da9b-be33-4fe8-abda-4dde07517498",
   "metadata": {},
   "outputs": [],
   "source": [
    "nycdf.write.csv('nyvdf.csv',header = True,mode=\"overwrite\")"
   ]
  },
  {
   "cell_type": "code",
   "execution_count": 86,
   "id": "7876580d-1c87-4a8d-8d27-abea1c95f731",
   "metadata": {},
   "outputs": [
    {
     "name": "stdout",
     "output_type": "stream",
     "text": [
      "/home/jovyan/nyvdf.csv\n"
     ]
    }
   ],
   "source": [
    "import pandas as pd\n",
    "import os \n",
    "print(os.getcwd()+'/nyvdf.csv')"
   ]
  },
  {
   "cell_type": "code",
   "execution_count": 105,
   "id": "0a09d262-f765-471e-94c5-fa108becf51e",
   "metadata": {},
   "outputs": [],
   "source": [
    "dataset = []\n",
    "for filename in os.listdir('/home/jovyan/nyvdf.csv'):\n",
    "    if filename.startswith('p'):\n",
    "        # print(pd.read_csv('/home/jovyan/nyvdf.csv/' + filename).shape)\n",
    "        dataset.append(pd.read_csv('/home/jovyan/nyvdf.csv/' + filename)) "
   ]
  },
  {
   "cell_type": "code",
   "execution_count": 292,
   "id": "b2d54a3f-f8fc-4617-99b8-1b86c7e623b8",
   "metadata": {},
   "outputs": [
    {
     "data": {
      "text/plain": [
       "Index(['Severity', 'Start_Time', 'City', 'County', 'State', 'Airport_Code',\n",
       "       'Temperature(F)', 'Wind_Chill(F)', 'Humidity(%)', 'Visibility(mi)',\n",
       "       'Weather_Condition', 'Amenity', 'Bump', 'Crossing', 'Give_Way',\n",
       "       'Junction', 'No_Exit', 'Railway', 'Roundabout', 'Station', 'Stop',\n",
       "       'Traffic_Calming', 'Traffic_Signal', 'Turning_Loop', 'Sunrise_Sunset',\n",
       "       'Civil_Twilight', 'Year', 'Month', 'day'],\n",
       "      dtype='object')"
      ]
     },
     "execution_count": 292,
     "metadata": {},
     "output_type": "execute_result"
    }
   ],
   "source": [
    "nycdf.columns"
   ]
  },
  {
   "cell_type": "code",
   "execution_count": 290,
   "id": "dd2ac513-8bdb-44d7-84fd-297411d92297",
   "metadata": {},
   "outputs": [],
   "source": [
    "def get_groupby(columns):\n",
    "    severity = ['Severity']\n",
    "    severity.extend(columns)\n",
    "    return nycdf.groupby(by=severity)"
   ]
  },
  {
   "cell_type": "code",
   "execution_count": 335,
   "id": "8e92a002-1fb2-4f8d-81c3-3fc102bc9ffa",
   "metadata": {},
   "outputs": [],
   "source": [
    "nycdf['safty_score'] = nycdf[gp_dict['Location']].sum(axis=1)"
   ]
  },
  {
   "cell_type": "code",
   "execution_count": 291,
   "id": "62868dc6-c80a-41d6-8619-64b63334c4de",
   "metadata": {},
   "outputs": [],
   "source": [
    "\n",
    "gps_weather = nycdf.groupby(by=['Severity','Weather_Condition'])\n",
    "gps = nycdf.groupby(by=['Severity'])\n",
    "gps_month = nycdf.groupby(by=['Severity','Month'])\n",
    "\n",
    "weather_considiton = get_groupby(gp_dict['weather_con']+['Month'])[['Severity']].count().unstack(1,fill_value=0) ## weather is hard to analyze cause we do not know the weather pattern looks like\n"
   ]
  },
  {
   "cell_type": "code",
   "execution_count": 261,
   "id": "8e84206b-6e12-4389-8e3b-d6a5bed7d5f4",
   "metadata": {},
   "outputs": [
    {
     "data": {
      "text/plain": [
       "['Severity', 'Weather_Condition']"
      ]
     },
     "execution_count": 261,
     "metadata": {},
     "output_type": "execute_result"
    }
   ],
   "source": [
    "severity = ['Severity']\n",
    "# severity.extend(gp_dict['weather'])\n",
    "severity.extend(gp_dict['weather_con'])\n",
    "severity"
   ]
  },
  {
   "cell_type": "code",
   "execution_count": 216,
   "id": "ad85aee2-1b48-4463-a834-4df240409131",
   "metadata": {},
   "outputs": [],
   "source": [
    "col_names = nycdf.columns\n",
    "case_len = nycdf.shape[0]"
   ]
  },
  {
   "cell_type": "code",
   "execution_count": 336,
   "id": "b112b212-a320-454b-99ab-ecd66ec5e973",
   "metadata": {},
   "outputs": [],
   "source": [
    "#traffic reminder\n",
    "location = ['Amenity', 'Bump', 'Crossing', 'Give_Way',\n",
    "       'Junction', 'No_Exit', 'Roundabout', 'Station', 'Stop',\n",
    "       'Traffic_Calming', 'Traffic_Signal', 'Turning_Loop']\n",
    "railway = ['Railway']\n",
    "weather = ['Temperature(F)', 'Wind_Chill(F)', 'Humidity(%)', 'Visibility(mi)']\n",
    "day_light = ['Sunrise_Sunset',\n",
    "             'Civil_Twilight']\n",
    "gp_dict = {'weather_metric':weather,'weather_con':['Weather_Condition'],'Year':'Year',\n",
    "           'Railway':railway,'Location':location,'region':['City','County'],'light':day_light}"
   ]
  },
  {
   "cell_type": "code",
   "execution_count": 351,
   "id": "0a67ca27-0750-4f51-856f-0308f706349c",
   "metadata": {},
   "outputs": [
    {
     "name": "stdout",
     "output_type": "stream",
     "text": [
      "overall severity ratio\n",
      "          Severity\n",
      "Severity          \n",
      "1         0.000970\n",
      "2         0.575919\n",
      "3         0.385574\n",
      "4         0.037537\n",
      "actual number\n",
      "                 Stop                     \n",
      "agg_result          0  1   2   3   4  5  6\n",
      "Severity Railway                          \n",
      "1        False      1  3   1   1   1  0  0\n",
      "         True       0  1   0   0   1  0  0\n",
      "2        False      1  9  30  28  16  5  1\n",
      "         True       1  5   9   9   3  2  0\n",
      "3        False      1  9  21  16   8  0  0\n",
      "         True       1  3   5   4   1  2  0\n",
      "4        False      1  8  17  12   2  0  0\n",
      "         True       1  2   3   5   1  0  0\n",
      "agg_result_serve\n"
     ]
    },
    {
     "data": {
      "text/html": [
       "<div>\n",
       "<style scoped>\n",
       "    .dataframe tbody tr th:only-of-type {\n",
       "        vertical-align: middle;\n",
       "    }\n",
       "\n",
       "    .dataframe tbody tr th {\n",
       "        vertical-align: top;\n",
       "    }\n",
       "\n",
       "    .dataframe thead tr th {\n",
       "        text-align: left;\n",
       "    }\n",
       "\n",
       "    .dataframe thead tr:last-of-type th {\n",
       "        text-align: right;\n",
       "    }\n",
       "</style>\n",
       "<table border=\"1\" class=\"dataframe\">\n",
       "  <thead>\n",
       "    <tr>\n",
       "      <th></th>\n",
       "      <th></th>\n",
       "      <th colspan=\"7\" halign=\"left\">Stop</th>\n",
       "    </tr>\n",
       "    <tr>\n",
       "      <th></th>\n",
       "      <th>agg_result</th>\n",
       "      <th>0</th>\n",
       "      <th>1</th>\n",
       "      <th>2</th>\n",
       "      <th>3</th>\n",
       "      <th>4</th>\n",
       "      <th>5</th>\n",
       "      <th>6</th>\n",
       "    </tr>\n",
       "    <tr>\n",
       "      <th>Severity</th>\n",
       "      <th>Railway</th>\n",
       "      <th></th>\n",
       "      <th></th>\n",
       "      <th></th>\n",
       "      <th></th>\n",
       "      <th></th>\n",
       "      <th></th>\n",
       "      <th></th>\n",
       "    </tr>\n",
       "  </thead>\n",
       "  <tbody>\n",
       "    <tr>\n",
       "      <th rowspan=\"2\" valign=\"top\">1</th>\n",
       "      <th>False</th>\n",
       "      <td>0.142857</td>\n",
       "      <td>0.075</td>\n",
       "      <td>0.011628</td>\n",
       "      <td>0.013333</td>\n",
       "      <td>0.030303</td>\n",
       "      <td>0.000000</td>\n",
       "      <td>0.0</td>\n",
       "    </tr>\n",
       "    <tr>\n",
       "      <th>True</th>\n",
       "      <td>0.000000</td>\n",
       "      <td>0.025</td>\n",
       "      <td>0.000000</td>\n",
       "      <td>0.000000</td>\n",
       "      <td>0.030303</td>\n",
       "      <td>0.000000</td>\n",
       "      <td>0.0</td>\n",
       "    </tr>\n",
       "    <tr>\n",
       "      <th rowspan=\"2\" valign=\"top\">2</th>\n",
       "      <th>False</th>\n",
       "      <td>0.142857</td>\n",
       "      <td>0.225</td>\n",
       "      <td>0.348837</td>\n",
       "      <td>0.373333</td>\n",
       "      <td>0.484848</td>\n",
       "      <td>0.555556</td>\n",
       "      <td>1.0</td>\n",
       "    </tr>\n",
       "    <tr>\n",
       "      <th>True</th>\n",
       "      <td>0.142857</td>\n",
       "      <td>0.125</td>\n",
       "      <td>0.104651</td>\n",
       "      <td>0.120000</td>\n",
       "      <td>0.090909</td>\n",
       "      <td>0.222222</td>\n",
       "      <td>0.0</td>\n",
       "    </tr>\n",
       "    <tr>\n",
       "      <th rowspan=\"2\" valign=\"top\">3</th>\n",
       "      <th>False</th>\n",
       "      <td>0.142857</td>\n",
       "      <td>0.225</td>\n",
       "      <td>0.244186</td>\n",
       "      <td>0.213333</td>\n",
       "      <td>0.242424</td>\n",
       "      <td>0.000000</td>\n",
       "      <td>0.0</td>\n",
       "    </tr>\n",
       "    <tr>\n",
       "      <th>True</th>\n",
       "      <td>0.142857</td>\n",
       "      <td>0.075</td>\n",
       "      <td>0.058140</td>\n",
       "      <td>0.053333</td>\n",
       "      <td>0.030303</td>\n",
       "      <td>0.222222</td>\n",
       "      <td>0.0</td>\n",
       "    </tr>\n",
       "    <tr>\n",
       "      <th rowspan=\"2\" valign=\"top\">4</th>\n",
       "      <th>False</th>\n",
       "      <td>0.142857</td>\n",
       "      <td>0.200</td>\n",
       "      <td>0.197674</td>\n",
       "      <td>0.160000</td>\n",
       "      <td>0.060606</td>\n",
       "      <td>0.000000</td>\n",
       "      <td>0.0</td>\n",
       "    </tr>\n",
       "    <tr>\n",
       "      <th>True</th>\n",
       "      <td>0.142857</td>\n",
       "      <td>0.050</td>\n",
       "      <td>0.034884</td>\n",
       "      <td>0.066667</td>\n",
       "      <td>0.030303</td>\n",
       "      <td>0.000000</td>\n",
       "      <td>0.0</td>\n",
       "    </tr>\n",
       "  </tbody>\n",
       "</table>\n",
       "</div>"
      ],
      "text/plain": [
       "                      Stop                                                    \n",
       "agg_result               0      1         2         3         4         5    6\n",
       "Severity Railway                                                              \n",
       "1        False    0.142857  0.075  0.011628  0.013333  0.030303  0.000000  0.0\n",
       "         True     0.000000  0.025  0.000000  0.000000  0.030303  0.000000  0.0\n",
       "2        False    0.142857  0.225  0.348837  0.373333  0.484848  0.555556  1.0\n",
       "         True     0.142857  0.125  0.104651  0.120000  0.090909  0.222222  0.0\n",
       "3        False    0.142857  0.225  0.244186  0.213333  0.242424  0.000000  0.0\n",
       "         True     0.142857  0.075  0.058140  0.053333  0.030303  0.222222  0.0\n",
       "4        False    0.142857  0.200  0.197674  0.160000  0.060606  0.000000  0.0\n",
       "         True     0.142857  0.050  0.034884  0.066667  0.030303  0.000000  0.0"
      ]
     },
     "execution_count": 351,
     "metadata": {},
     "output_type": "execute_result"
    }
   ],
   "source": [
    "print('overall severity ratio')\n",
    "print(gps[severity].count()[['Severity']]/case_len)\n",
    "\n",
    "blresult = get_groupby(gp_dict['Location']+gp_dict['Railway']).count().iloc[:,1].reset_index().set_index(['Severity','Railway'])[location]\n",
    "blresult['agg_result'] = blresult.sum(axis=1)\n",
    "blresult.reset_index()\n",
    "agg_result_serve = blresult.groupby(['Severity','Railway','agg_result']).count()[['Stop']].unstack(fill_value=0)\n",
    "print('actual number')\n",
    "print(agg_result_serve)\n",
    "print('agg_result_serve')\n",
    "agg_result_serve.div(agg_result_serve.sum(axis=0),axis=1)"
   ]
  },
  {
   "cell_type": "code",
   "execution_count": 332,
   "id": "c7a0ed76-8249-42d3-9a28-957f7bdb1193",
   "metadata": {},
   "outputs": [
    {
     "data": {
      "text/plain": [
       "Severity  City                 County  \n",
       "1         Bronx                Bronx        6\n",
       "          Brooklyn             Kings        1\n",
       "          Cambria Heights      Queens       4\n",
       "          Corona               Queens       4\n",
       "          Flushing             Queens       1\n",
       "                                           ..\n",
       "4         Springfield Gardens  Queens       6\n",
       "          Staten Island        Richmond    39\n",
       "          Whitestone           Queens       5\n",
       "          Woodhaven            Queens       2\n",
       "          Woodside             Queens       8\n",
       "Name: State, Length: 149, dtype: int64"
      ]
     },
     "execution_count": 332,
     "metadata": {},
     "output_type": "execute_result"
    }
   ],
   "source": [
    "get_groupby(gp_dict['region']+gp_dict['region']).count().iloc[:,1]"
   ]
  },
  {
   "cell_type": "code",
   "execution_count": 245,
   "id": "919aa4ab-b9fc-4a6c-a832-2f9d7f50c58e",
   "metadata": {},
   "outputs": [
    {
     "data": {
      "text/html": [
       "<div>\n",
       "<style scoped>\n",
       "    .dataframe tbody tr th:only-of-type {\n",
       "        vertical-align: middle;\n",
       "    }\n",
       "\n",
       "    .dataframe tbody tr th {\n",
       "        vertical-align: top;\n",
       "    }\n",
       "\n",
       "    .dataframe thead th {\n",
       "        text-align: right;\n",
       "    }\n",
       "</style>\n",
       "<table border=\"1\" class=\"dataframe\">\n",
       "  <thead>\n",
       "    <tr style=\"text-align: right;\">\n",
       "      <th></th>\n",
       "      <th>Severity</th>\n",
       "    </tr>\n",
       "    <tr>\n",
       "      <th>Severity</th>\n",
       "      <th></th>\n",
       "    </tr>\n",
       "  </thead>\n",
       "  <tbody>\n",
       "    <tr>\n",
       "      <th>1</th>\n",
       "      <td>0.000970</td>\n",
       "    </tr>\n",
       "    <tr>\n",
       "      <th>2</th>\n",
       "      <td>0.575919</td>\n",
       "    </tr>\n",
       "    <tr>\n",
       "      <th>3</th>\n",
       "      <td>0.385574</td>\n",
       "    </tr>\n",
       "    <tr>\n",
       "      <th>4</th>\n",
       "      <td>0.037537</td>\n",
       "    </tr>\n",
       "  </tbody>\n",
       "</table>\n",
       "</div>"
      ],
      "text/plain": [
       "          Severity\n",
       "Severity          \n",
       "1         0.000970\n",
       "2         0.575919\n",
       "3         0.385574\n",
       "4         0.037537"
      ]
     },
     "execution_count": 245,
     "metadata": {},
     "output_type": "execute_result"
    }
   ],
   "source": [
    "gps[severity].count()[['Severity']]/case_len"
   ]
  },
  {
   "cell_type": "code",
   "execution_count": null,
   "id": "ed7175f7-d935-4a7e-b042-a1f597d63ded",
   "metadata": {},
   "outputs": [],
   "source": []
  },
  {
   "cell_type": "code",
   "execution_count": 248,
   "id": "95232c65-a794-4e45-88ae-e81c6364972e",
   "metadata": {},
   "outputs": [],
   "source": [
    "gps[severity].mean()\n",
    "severity_count_by_month = gps_month[severity].count()[['Severity']].unstack(0,fill_value=0)"
   ]
  },
  {
   "cell_type": "code",
   "execution_count": 244,
   "id": "de8bbe29-ec28-4c59-8e9f-c4008663edba",
   "metadata": {},
   "outputs": [
    {
     "name": "stdout",
     "output_type": "stream",
     "text": [
      "overall severity ratio\n",
      "          Severity\n",
      "Severity          \n",
      "1         0.000970\n",
      "2         0.575919\n",
      "3         0.385574\n",
      "4         0.037537\n",
      "severity count by month\n",
      "Month\n",
      "1     1759\n",
      "2     2384\n",
      "3     1789\n",
      "4     2488\n",
      "5     2694\n",
      "6     2331\n",
      "7     1588\n",
      "8     1495\n",
      "9     2486\n",
      "10    2865\n",
      "11    2939\n",
      "12    3021\n",
      "dtype: int64\n",
      "severity ratio by month\n",
      "          Severity                              \n",
      "Severity         1         2         3         4\n",
      "Month                                           \n",
      "1         0.000000  0.480387  0.491757  0.027857\n",
      "2         0.000000  0.606124  0.376258  0.017617\n",
      "3         0.000000  0.437116  0.519285  0.043600\n",
      "4         0.004019  0.470659  0.444936  0.080386\n",
      "5         0.002970  0.451373  0.466592  0.079065\n",
      "6         0.003432  0.363363  0.519949  0.113256\n",
      "7         0.000000  0.484257  0.499370  0.016373\n",
      "8         0.000000  0.456856  0.526421  0.016722\n",
      "9         0.000000  0.692679  0.292438  0.014883\n",
      "10        0.000000  0.731588  0.256195  0.012216\n",
      "11        0.000340  0.735624  0.255189  0.008847\n",
      "12        0.000000  0.759682  0.223767  0.016551\n"
     ]
    }
   ],
   "source": [
    "print('overall severity ratio')\n",
    "print(gps[severity].count()[['Severity']]/case_len)\n",
    "print('severity count by month')\n",
    "print(severity_count_by_month.sum(axis=1))\n",
    "severity_percentage = severity_count_by_month.div(severity_count_by_month.sum(axis=1), axis=0)\n",
    "print('severity ratio by month')\n",
    "print(severity_percentage)"
   ]
  },
  {
   "cell_type": "code",
   "execution_count": 236,
   "id": "356875c6-b300-4e15-86f9-4702429d12af",
   "metadata": {},
   "outputs": [
    {
     "data": {
      "text/html": [
       "<div>\n",
       "<style scoped>\n",
       "    .dataframe tbody tr th:only-of-type {\n",
       "        vertical-align: middle;\n",
       "    }\n",
       "\n",
       "    .dataframe tbody tr th {\n",
       "        vertical-align: top;\n",
       "    }\n",
       "\n",
       "    .dataframe thead tr th {\n",
       "        text-align: left;\n",
       "    }\n",
       "\n",
       "    .dataframe thead tr:last-of-type th {\n",
       "        text-align: right;\n",
       "    }\n",
       "</style>\n",
       "<table border=\"1\" class=\"dataframe\">\n",
       "  <thead>\n",
       "    <tr>\n",
       "      <th></th>\n",
       "      <th colspan=\"4\" halign=\"left\">Severity</th>\n",
       "    </tr>\n",
       "    <tr>\n",
       "      <th>Severity</th>\n",
       "      <th>1</th>\n",
       "      <th>2</th>\n",
       "      <th>3</th>\n",
       "      <th>4</th>\n",
       "    </tr>\n",
       "    <tr>\n",
       "      <th>Month</th>\n",
       "      <th></th>\n",
       "      <th></th>\n",
       "      <th></th>\n",
       "      <th></th>\n",
       "    </tr>\n",
       "  </thead>\n",
       "  <tbody>\n",
       "    <tr>\n",
       "      <th>1</th>\n",
       "      <td>0.000000</td>\n",
       "      <td>0.480387</td>\n",
       "      <td>0.491757</td>\n",
       "      <td>0.027857</td>\n",
       "    </tr>\n",
       "    <tr>\n",
       "      <th>2</th>\n",
       "      <td>0.000000</td>\n",
       "      <td>0.606124</td>\n",
       "      <td>0.376258</td>\n",
       "      <td>0.017617</td>\n",
       "    </tr>\n",
       "    <tr>\n",
       "      <th>3</th>\n",
       "      <td>0.000000</td>\n",
       "      <td>0.437116</td>\n",
       "      <td>0.519285</td>\n",
       "      <td>0.043600</td>\n",
       "    </tr>\n",
       "    <tr>\n",
       "      <th>4</th>\n",
       "      <td>0.004019</td>\n",
       "      <td>0.470659</td>\n",
       "      <td>0.444936</td>\n",
       "      <td>0.080386</td>\n",
       "    </tr>\n",
       "    <tr>\n",
       "      <th>5</th>\n",
       "      <td>0.002970</td>\n",
       "      <td>0.451373</td>\n",
       "      <td>0.466592</td>\n",
       "      <td>0.079065</td>\n",
       "    </tr>\n",
       "    <tr>\n",
       "      <th>6</th>\n",
       "      <td>0.003432</td>\n",
       "      <td>0.363363</td>\n",
       "      <td>0.519949</td>\n",
       "      <td>0.113256</td>\n",
       "    </tr>\n",
       "    <tr>\n",
       "      <th>7</th>\n",
       "      <td>0.000000</td>\n",
       "      <td>0.484257</td>\n",
       "      <td>0.499370</td>\n",
       "      <td>0.016373</td>\n",
       "    </tr>\n",
       "    <tr>\n",
       "      <th>8</th>\n",
       "      <td>0.000000</td>\n",
       "      <td>0.456856</td>\n",
       "      <td>0.526421</td>\n",
       "      <td>0.016722</td>\n",
       "    </tr>\n",
       "    <tr>\n",
       "      <th>9</th>\n",
       "      <td>0.000000</td>\n",
       "      <td>0.692679</td>\n",
       "      <td>0.292438</td>\n",
       "      <td>0.014883</td>\n",
       "    </tr>\n",
       "    <tr>\n",
       "      <th>10</th>\n",
       "      <td>0.000000</td>\n",
       "      <td>0.731588</td>\n",
       "      <td>0.256195</td>\n",
       "      <td>0.012216</td>\n",
       "    </tr>\n",
       "    <tr>\n",
       "      <th>11</th>\n",
       "      <td>0.000340</td>\n",
       "      <td>0.735624</td>\n",
       "      <td>0.255189</td>\n",
       "      <td>0.008847</td>\n",
       "    </tr>\n",
       "    <tr>\n",
       "      <th>12</th>\n",
       "      <td>0.000000</td>\n",
       "      <td>0.759682</td>\n",
       "      <td>0.223767</td>\n",
       "      <td>0.016551</td>\n",
       "    </tr>\n",
       "  </tbody>\n",
       "</table>\n",
       "</div>"
      ],
      "text/plain": [
       "          Severity                              \n",
       "Severity         1         2         3         4\n",
       "Month                                           \n",
       "1         0.000000  0.480387  0.491757  0.027857\n",
       "2         0.000000  0.606124  0.376258  0.017617\n",
       "3         0.000000  0.437116  0.519285  0.043600\n",
       "4         0.004019  0.470659  0.444936  0.080386\n",
       "5         0.002970  0.451373  0.466592  0.079065\n",
       "6         0.003432  0.363363  0.519949  0.113256\n",
       "7         0.000000  0.484257  0.499370  0.016373\n",
       "8         0.000000  0.456856  0.526421  0.016722\n",
       "9         0.000000  0.692679  0.292438  0.014883\n",
       "10        0.000000  0.731588  0.256195  0.012216\n",
       "11        0.000340  0.735624  0.255189  0.008847\n",
       "12        0.000000  0.759682  0.223767  0.016551"
      ]
     },
     "execution_count": 236,
     "metadata": {},
     "output_type": "execute_result"
    }
   ],
   "source": [
    "severity_percentage"
   ]
  },
  {
   "cell_type": "code",
   "execution_count": 256,
   "id": "3b8a5029-6d72-474a-9fc0-b4ea03cf6b75",
   "metadata": {},
   "outputs": [
    {
     "data": {
      "text/plain": [
       "Index(['Severity', 'Start_Time', 'City', 'County', 'State', 'Airport_Code',\n",
       "       'Temperature(F)', 'Wind_Chill(F)', 'Humidity(%)', 'Visibility(mi)',\n",
       "       'Weather_Condition', 'Amenity', 'Bump', 'Crossing', 'Give_Way',\n",
       "       'Junction', 'No_Exit', 'Railway', 'Roundabout', 'Station', 'Stop',\n",
       "       'Traffic_Calming', 'Traffic_Signal', 'Turning_Loop', 'Sunrise_Sunset',\n",
       "       'Civil_Twilight', 'Year', 'Month', 'day'],\n",
       "      dtype='object')"
      ]
     },
     "execution_count": 256,
     "metadata": {},
     "output_type": "execute_result"
    }
   ],
   "source": [
    "header"
   ]
  },
  {
   "cell_type": "code",
   "execution_count": 122,
   "id": "94de0ccc-68a8-4946-9abb-cc49c433bfb2",
   "metadata": {},
   "outputs": [],
   "source": [
    "header = dataset[0].columns\n",
    "nycdf = pd.concat([dataset[i] for i in range(len(dataset))])"
   ]
  },
  {
   "cell_type": "code",
   "execution_count": 143,
   "id": "c0041f8d-f600-4bd7-b9db-fa36224517bd",
   "metadata": {},
   "outputs": [
    {
     "data": {
      "text/plain": [
       "array(['Mostly Cloudy', 'Fair', 'Cloudy', 'Light Rain / Windy',\n",
       "       'Fair / Windy', 'Partly Cloudy', 'Light Rain', nan, 'Fog',\n",
       "       'Light Snow / Windy', 'Cloudy / Windy', 'Light Snow', 'Heavy Rain',\n",
       "       'Snow', 'Mostly Cloudy / Windy', 'Rain / Windy',\n",
       "       'Partly Cloudy / Windy', 'Rain', 'Drizzle', 'Light Drizzle',\n",
       "       'Snow / Windy', 'Haze', 'Snow and Sleet', 'Haze / Windy',\n",
       "       'Snow and Sleet / Windy', 'Light Drizzle / Windy',\n",
       "       'T-Storm / Windy', 'Wintry Mix', 'Drizzle and Fog', 'Fog / Windy',\n",
       "       'Scattered Clouds', 'Clear', 'Overcast', 'Ice Pellets',\n",
       "       'Light Freezing Rain', 'Light Freezing Drizzle',\n",
       "       'Light Ice Pellets', 'Patches of Fog', 'Patches of Fog / Windy',\n",
       "       'Thunder', 'Heavy Rain / Windy', 'T-Storm',\n",
       "       'Light Rain with Thunder', 'Thunder in the Vicinity',\n",
       "       'Heavy T-Storm', 'Heavy Drizzle', 'Mist', 'Heavy T-Storm / Windy',\n",
       "       'Squalls / Windy', 'Light Snow and Sleet', 'Shallow Fog'],\n",
       "      dtype=object)"
      ]
     },
     "execution_count": 143,
     "metadata": {},
     "output_type": "execute_result"
    }
   ],
   "source": [
    "nycdf['Weather_Condition'].unique()"
   ]
  },
  {
   "cell_type": "code",
   "execution_count": 145,
   "id": "37e82c21-fb00-48ba-925a-585bab0bb9ba",
   "metadata": {},
   "outputs": [
    {
     "data": {
      "text/plain": [
       "(27839,)"
      ]
     },
     "execution_count": 145,
     "metadata": {},
     "output_type": "execute_result"
    }
   ],
   "source": [
    "nycdf['Weather_Condition'].shape"
   ]
  },
  {
   "cell_type": "code",
   "execution_count": 124,
   "id": "3d7e7397-c48b-4fc5-9400-799ffb8354f2",
   "metadata": {},
   "outputs": [
    {
     "data": {
      "text/plain": [
       "Index(['Severity', 'Start_Time', 'City', 'County', 'State', 'Airport_Code',\n",
       "       'Temperature(F)', 'Wind_Chill(F)', 'Humidity(%)', 'Visibility(mi)',\n",
       "       'Weather_Condition', 'Amenity', 'Bump', 'Crossing', 'Give_Way',\n",
       "       'Junction', 'No_Exit', 'Railway', 'Roundabout', 'Station', 'Stop',\n",
       "       'Traffic_Calming', 'Traffic_Signal', 'Turning_Loop', 'Sunrise_Sunset',\n",
       "       'Civil_Twilight', 'Year', 'Month', 'day'],\n",
       "      dtype='object')"
      ]
     },
     "execution_count": 124,
     "metadata": {},
     "output_type": "execute_result"
    }
   ],
   "source": [
    "dataset[0].columns"
   ]
  },
  {
   "cell_type": "code",
   "execution_count": 95,
   "id": "946eedb3-47ab-4602-8d7f-f39595f79a6c",
   "metadata": {},
   "outputs": [
    {
     "data": {
      "text/plain": [
       "[      2  2019-04-03T11:05:54.000Z          Woodside    Queens  NY  KLGA  54.0  \\\n",
       " 0     2  2019-04-03T10:02:09.000Z             Bronx     Bronx  NY  KLGA  49.0   \n",
       " 1     2  2019-04-03T11:38:09.000Z           Jamaica    Queens  NY  KJFK  56.0   \n",
       " 2     2  2019-04-03T13:23:09.000Z        Whitestone    Queens  NY  KLGA  63.0   \n",
       " 3     2  2019-04-03T16:07:23.000Z  South Ozone Park    Queens  NY  KJFK  65.0   \n",
       " 4     2  2019-04-03T16:29:56.000Z          Brooklyn     Kings  NY  KJRB  67.0   \n",
       " ...  ..                       ...               ...       ...  ..   ...   ...   \n",
       " 1453  2  2019-08-23T14:00:27.000Z     Staten Island  Richmond  NY  KEWR  72.0   \n",
       " 1454  2  2019-08-23T17:03:32.000Z         Rego Park    Queens  NY  KLGA  75.0   \n",
       " 1455  2  2019-08-23T16:48:32.000Z          Elmhurst    Queens  NY  KLGA  75.0   \n",
       " 1456  2  2019-08-23T19:20:28.000Z     Staten Island  Richmond  NY  KEWR  75.0   \n",
       " 1457  2  2019-08-23T17:51:33.000Z      Forest Hills    Queens  NY  KLGA  75.0   \n",
       " \n",
       "       54.0.1  33.0  10.0  ... false.8  false.9  false.10  false.11  false.12  \\\n",
       " 0       44.0  44.0  10.0  ...   False    False     False      True     False   \n",
       " 1       56.0  47.0  10.0  ...   False    False     False     False     False   \n",
       " 2       63.0  22.0  10.0  ...   False    False     False     False     False   \n",
       " 3       65.0  24.0  10.0  ...   False    False     False     False     False   \n",
       " 4       67.0  16.0  10.0  ...   False    False     False     False     False   \n",
       " ...      ...   ...   ...  ...     ...      ...       ...       ...       ...   \n",
       " 1453    72.0  64.0  10.0  ...   False    False     False     False     False   \n",
       " 1454    75.0  51.0  10.0  ...   False    False     False     False     False   \n",
       " 1455    75.0  51.0  10.0  ...   False    False     False     False     False   \n",
       " 1456    75.0  57.0  10.0  ...   False    False     False     False     False   \n",
       " 1457    75.0  51.0  10.0  ...   False    False     False     False     False   \n",
       " \n",
       "       Day  Day.1  2019  4   3  \n",
       " 0     Day    Day  2019  4   3  \n",
       " 1     Day    Day  2019  4   3  \n",
       " 2     Day    Day  2019  4   3  \n",
       " 3     Day    Day  2019  4   3  \n",
       " 4     Day    Day  2019  4   3  \n",
       " ...   ...    ...   ... ..  ..  \n",
       " 1453  Day    Day  2019  8  23  \n",
       " 1454  Day    Day  2019  8  23  \n",
       " 1455  Day    Day  2019  8  23  \n",
       " 1456  Day    Day  2019  8  23  \n",
       " 1457  Day    Day  2019  8  23  \n",
       " \n",
       " [1458 rows x 29 columns],\n",
       "       2  2020-03-24T01:56:31.000Z   Forest Hills    Queens  NY  KLGA  39.0  \\\n",
       " 0     2  2020-03-24T01:56:31.000Z   Forest Hills    Queens  NY  KLGA  39.0   \n",
       " 1     3  2020-03-24T07:03:30.000Z  Staten Island  Richmond  NY  KEWR  39.0   \n",
       " 2     2  2020-03-24T07:57:19.000Z  Staten Island  Richmond  NY  KEWR  41.0   \n",
       " 3     4  2020-03-24T08:31:25.000Z        Maspeth    Queens  NY  KLGA  41.0   \n",
       " 4     4  2020-03-24T07:58:36.000Z        Maspeth    Queens  NY  KLGA  39.0   \n",
       " ...  ..                       ...            ...       ...  ..   ...   ...   \n",
       " 3143  2  2019-01-29T08:17:21.000Z  Fresh Meadows    Queens  NY  KLGA  30.0   \n",
       " 3144  2  2019-01-29T08:52:14.000Z       Brooklyn     Kings  NY  KJRB  33.1   \n",
       " 3145  2  2019-01-29T09:25:58.000Z       New York  New York  NY  KNYC  34.0   \n",
       " 3146  2  2019-01-29T14:43:13.000Z      Rego Park    Queens  NY  KLGA  42.1   \n",
       " 3147  2  2019-01-29T16:53:00.000Z          Bronx     Bronx  NY  KLGA  43.0   \n",
       " \n",
       "       31.0  76.0  10.0  ... false.8  false.9  false.10  false.11  false.12  \\\n",
       " 0     31.0  76.0  10.0  ...   False    False     False     False     False   \n",
       " 1     33.0  79.0  10.0  ...   False    False     False     False     False   \n",
       " 2     35.0  73.0  10.0  ...   False    False     False     False     False   \n",
       " 3     33.0  70.0  10.0  ...   False    False     False      True     False   \n",
       " 4     32.0  76.0  10.0  ...   False    False     False      True     False   \n",
       " ...    ...   ...   ...  ...     ...      ...       ...       ...       ...   \n",
       " 3143  22.4  72.0  10.0  ...   False    False     False     False     False   \n",
       " 3144  26.9  78.0  10.0  ...   False    False     False      True     False   \n",
       " 3145   NaN  73.0  10.0  ...   False    False     False      True     False   \n",
       " 3146  35.2  76.0  10.0  ...   False    False     False     False     False   \n",
       " 3147  36.4  80.0  10.0  ...   False    False     False     False     False   \n",
       " \n",
       "       Night  Night.1  2020  3  24  \n",
       " 0     Night    Night  2020  3  24  \n",
       " 1       Day      Day  2020  3  24  \n",
       " 2       Day      Day  2020  3  24  \n",
       " 3       Day      Day  2020  3  24  \n",
       " 4       Day      Day  2020  3  24  \n",
       " ...     ...      ...   ... ..  ..  \n",
       " 3143    Day      Day  2019  1  29  \n",
       " 3144    Day      Day  2019  1  29  \n",
       " 3145    Day      Day  2019  1  29  \n",
       " 3146    Day      Day  2019  1  29  \n",
       " 3147    Day      Day  2019  1  29  \n",
       " \n",
       " [3148 rows x 29 columns],\n",
       "       3  2020-12-30T23:58:29.000Z     Brooklyn     Kings  NY  KJRB  43.0  \\\n",
       " 0     3  2020-12-30T23:59:52.000Z     Brooklyn     Kings  NY  KJRB  43.0   \n",
       " 1     3  2020-12-30T23:31:42.000Z        Bronx     Bronx  NY  KLGA  45.0   \n",
       " 2     3  2020-12-31T06:59:36.000Z  Little Neck    Queens  NY  KLGA  50.0   \n",
       " 3     2  2020-12-31T07:13:00.000Z     Brooklyn     Kings  NY  KJRB  46.0   \n",
       " 4     2  2020-12-31T07:55:03.000Z     Brooklyn     Kings  NY  KJRB  45.0   \n",
       " ...  ..                       ...          ...       ...  ..   ...   ...   \n",
       " 2994  3  2020-08-22T18:51:35.000Z   Whitestone    Queens  NY  KLGA  87.0   \n",
       " 2995  3  2020-08-22T19:14:25.000Z     Elmhurst    Queens  NY  KLGA  87.0   \n",
       " 2996  2  2020-08-22T19:32:21.000Z     New York  New York  NY  KNYC  81.0   \n",
       " 2997  3  2020-08-22T20:25:16.000Z        Bronx     Bronx  NY  KLGA  85.0   \n",
       " 2998  2  2020-08-22T22:00:47.000Z     New York  New York  NY  KNYC  80.0   \n",
       " \n",
       "       38.0  58.0  10.0  ... false.8  false.9  false.10  false.11  false.12  \\\n",
       " 0     38.0  58.0  10.0  ...   False    False     False     False     False   \n",
       " 1     39.0  52.0  10.0  ...   False    False     False     False     False   \n",
       " 2     50.0  77.0   8.0  ...   False    False     False     False     False   \n",
       " 3     43.0  89.0   2.0  ...    True    False     False      True     False   \n",
       " 4     42.0  97.0   3.0  ...   False    False     False     False     False   \n",
       " ...    ...   ...   ...  ...     ...      ...       ...       ...       ...   \n",
       " 2994  87.0  44.0  10.0  ...   False    False     False     False     False   \n",
       " 2995  87.0  44.0  10.0  ...   False    False     False     False     False   \n",
       " 2996  81.0  60.0  10.0  ...   False    False     False     False     False   \n",
       " 2997  85.0  53.0  10.0  ...   False    False     False     False     False   \n",
       " 2998  80.0  67.0  10.0  ...   False    False     False     False     False   \n",
       " \n",
       "       Night  Night.1  2020  12  30  \n",
       " 0     Night    Night  2020  12  30  \n",
       " 1     Night    Night  2020  12  30  \n",
       " 2     Night      Day  2020  12  31  \n",
       " 3     Night      Day  2020  12  31  \n",
       " 4       Day      Day  2020  12  31  \n",
       " ...     ...      ...   ...  ..  ..  \n",
       " 2994    Day      Day  2020   8  22  \n",
       " 2995    Day      Day  2020   8  22  \n",
       " 2996    Day      Day  2020   8  22  \n",
       " 2997  Night    Night  2020   8  22  \n",
       " 2998  Night    Night  2020   8  22  \n",
       " \n",
       " [2999 rows x 29 columns],\n",
       "       3  2019-04-04T04:13:39.000Z              Jamaica  Queens  NY  KJFK  \\\n",
       " 0     3  2019-04-04T05:33:01.000Z          Little Neck  Queens  NY  KLGA   \n",
       " 1     2  2019-04-04T05:50:43.000Z             Brooklyn   Kings  NY  KJFK   \n",
       " 2     3  2019-04-04T05:56:54.000Z                Bronx   Bronx  NY  KLGA   \n",
       " 3     3  2019-04-04T06:08:39.000Z                Bronx   Bronx  NY  KLGA   \n",
       " 4     2  2019-04-04T06:15:25.000Z                Bronx   Bronx  NY  KLGA   \n",
       " ...  ..                       ...                  ...     ...  ..   ...   \n",
       " 2963  2  2019-01-30T09:31:34.000Z           Whitestone  Queens  NY  KLGA   \n",
       " 2964  2  2019-01-30T11:14:38.000Z                Bronx   Bronx  NY  KLGA   \n",
       " 2965  2  2019-01-30T11:57:13.000Z  Springfield Gardens  Queens  NY  KJFK   \n",
       " 2966  3  2019-01-30T14:04:46.000Z              Jamaica  Queens  NY  KJFK   \n",
       " 2967  3  2019-01-30T20:51:17.000Z                Bronx   Bronx  NY  KLGA   \n",
       " \n",
       "       48.0  43.0  29.0  10.0  ... false.8  false.9  false.10  false.11  \\\n",
       " 0     45.0  40.0  34.0  10.0  ...   False    False     False     False   \n",
       " 1     45.0  39.0  34.0  10.0  ...   False    False     False     False   \n",
       " 2     45.0  40.0  34.0  10.0  ...   False    False     False     False   \n",
       " 3     45.0  40.0  34.0  10.0  ...   False    False     False     False   \n",
       " 4     45.0  40.0  34.0  10.0  ...   False    False     False     False   \n",
       " ...    ...   ...   ...   ...  ...     ...      ...       ...       ...   \n",
       " 2963  24.1  13.7  35.0  10.0  ...   False     True     False     False   \n",
       " 2964  27.0  16.7  33.0  10.0  ...    True    False     False      True   \n",
       " 2965  27.0  16.7  45.0  10.0  ...    True    False     False      True   \n",
       " 2966  32.0  19.8  52.0  10.0  ...   False    False     False     False   \n",
       " 2967  10.9  -7.9  37.0  10.0  ...   False    False     False     False   \n",
       " \n",
       "       false.12  Night  Night.1  2019  4  4.1  \n",
       " 0        False  Night    Night  2019  4    4  \n",
       " 1        False  Night    Night  2019  4    4  \n",
       " 2        False  Night    Night  2019  4    4  \n",
       " 3        False  Night      Day  2019  4    4  \n",
       " 4        False  Night      Day  2019  4    4  \n",
       " ...        ...    ...      ...   ... ..  ...  \n",
       " 2963     False    Day      Day  2019  1   30  \n",
       " 2964     False    Day      Day  2019  1   30  \n",
       " 2965     False    Day      Day  2019  1   30  \n",
       " 2966     False    Day      Day  2019  1   30  \n",
       " 2967     False  Night    Night  2019  1   30  \n",
       " \n",
       " [2968 rows x 29 columns],\n",
       "       2  2020-12-16T13:52:30.000Z  Brooklyn     Kings  NY  KJRB  30.0  21.0  \\\n",
       " 0     2  2020-10-29T15:13:00.000Z  New York  New York  NY  KNYC  50.0  50.0   \n",
       " 1     2  2020-11-20T13:46:00.000Z  New York  New York  NY  KNYC  61.0   NaN   \n",
       " 2     2  2020-10-08T12:34:30.000Z  New York  New York  NY  KNYC  63.0  63.0   \n",
       " 3     2  2020-10-07T13:58:00.000Z  New York  New York  NY  KNYC  72.0  72.0   \n",
       " 4     2  2020-09-11T14:24:00.000Z  New York  New York  NY  KNYC  74.0  74.0   \n",
       " ...  ..                       ...       ...       ...  ..   ...   ...   ...   \n",
       " 4570  3  2020-03-23T22:38:06.000Z  Woodside    Queens  NY  KLGA  39.0  32.0   \n",
       " 4571  3  2020-03-23T21:36:52.000Z  Woodside    Queens  NY  KLGA  39.0  31.0   \n",
       " 4572  3  2020-03-23T23:39:09.000Z  Woodside    Queens  NY  KLGA  39.0  31.0   \n",
       " 4573  3  2020-03-24T00:15:22.000Z  New York  New York  NY  KNYC  37.0  31.0   \n",
       " 4574  3  2020-03-24T00:42:00.000Z  Woodside    Queens  NY  KLGA  39.0  31.0   \n",
       " \n",
       "       51.0  10.0  ... false.8  false.9  false.10  false.11  false.12    Day  \\\n",
       " 0     93.0   3.0  ...   False    False     False      True     False    Day   \n",
       " 1     35.0  10.0  ...   False    False     False     False     False    Day   \n",
       " 2     41.0  10.0  ...   False    False     False     False     False    Day   \n",
       " 3     44.0  10.0  ...   False    False     False      True     False    Day   \n",
       " 4     59.0  10.0  ...   False    False     False     False     False    Day   \n",
       " ...    ...   ...  ...     ...      ...       ...       ...       ...    ...   \n",
       " 4570  79.0  10.0  ...   False    False     False     False     False  Night   \n",
       " 4571  82.0  10.0  ...   False    False     False     False     False  Night   \n",
       " 4572  79.0  10.0  ...   False    False     False     False     False  Night   \n",
       " 4573  86.0  10.0  ...   False    False     False     False     False  Night   \n",
       " 4574  76.0  10.0  ...   False    False     False     False     False  Night   \n",
       " \n",
       "       Day.1  2020  12  16  \n",
       " 0       Day  2020  10  29  \n",
       " 1       Day  2020  11  20  \n",
       " 2       Day  2020  10   8  \n",
       " 3       Day  2020  10   7  \n",
       " 4       Day  2020   9  11  \n",
       " ...     ...   ...  ..  ..  \n",
       " 4570  Night  2020   3  23  \n",
       " 4571  Night  2020   3  23  \n",
       " 4572  Night  2020   3  23  \n",
       " 4573  Night  2020   3  24  \n",
       " 4574  Night  2020   3  24  \n",
       " \n",
       " [4575 rows x 29 columns],\n",
       " Empty DataFrame\n",
       " Columns: [2, 2020-12-31T23:52:38.000Z, New York, New York.1, NY, KJRB, 36.0, 36.0.1, 59.0, 10.0, Fair, false, false.1, false.2, false.3, false.4, false.5, false.6, false.7, false.8, false.9, false.10, false.11, false.12, Night, Night.1, 2020, 12, 31]\n",
       " Index: []\n",
       " \n",
       " [0 rows x 29 columns],\n",
       "       3  2020-08-23T06:06:12.000Z  Brooklyn     Kings  NY  KNYC  75.0  75.0.1  \\\n",
       " 0     3  2020-08-23T08:36:20.000Z     Bronx     Bronx  NY  KLGA  79.0    79.0   \n",
       " 1     3  2020-08-23T10:00:05.000Z     Bronx     Bronx  NY  KLGA  80.0    80.0   \n",
       " 2     2  2020-08-23T10:05:28.000Z  New York  New York  NY  KJRB  78.0    78.0   \n",
       " 3     3  2020-08-23T11:12:10.000Z     Bronx     Bronx  NY  KLGA  83.0    83.0   \n",
       " 4     3  2020-08-23T11:47:35.000Z  New York  New York  NY  KNYC  80.0    80.0   \n",
       " ...  ..                       ...       ...       ...  ..   ...   ...     ...   \n",
       " 4506  2  2019-10-31T14:06:06.000Z  Brooklyn     Kings  NY  KJRB  69.0    69.0   \n",
       " 4507  2  2019-10-31T17:02:05.000Z  Brooklyn     Kings  NY  KJRB  69.0    69.0   \n",
       " 4508  3  2019-10-31T17:46:25.000Z     Bronx     Bronx  NY  KLGA  66.0    66.0   \n",
       " 4509  2  2019-10-31T19:25:42.000Z  Brooklyn     Kings  NY  KJFK  66.0    66.0   \n",
       " 4510  2  2019-10-31T20:43:21.000Z  New York  New York  NY  KNYC  69.0    69.0   \n",
       " \n",
       "        79.0  10.0  ... false.6  false.7  false.8  true.2  false.9  Night  \\\n",
       " 0      69.0  10.0  ...   False    False    False   False    False    Day   \n",
       " 1      67.0  10.0  ...   False    False    False   False    False    Day   \n",
       " 2      76.0  10.0  ...   False    False    False   False    False    Day   \n",
       " 3      65.0  10.0  ...   False    False    False   False    False    Day   \n",
       " 4      74.0  10.0  ...   False    False    False   False    False    Day   \n",
       " ...     ...   ...  ...     ...      ...      ...     ...      ...    ...   \n",
       " 4506   90.0   8.0  ...   False     True    False   False    False    Day   \n",
       " 4507   90.0  10.0  ...   False    False    False   False    False    Day   \n",
       " 4508   93.0   7.0  ...   False    False    False   False    False    Day   \n",
       " 4509  100.0   1.0  ...   False    False    False   False    False  Night   \n",
       " 4510   87.0  10.0  ...   False    False    False   False    False  Night   \n",
       " \n",
       "         Day  2020   8  23  \n",
       " 0       Day  2020   8  23  \n",
       " 1       Day  2020   8  23  \n",
       " 2       Day  2020   8  23  \n",
       " 3       Day  2020   8  23  \n",
       " 4       Day  2020   8  23  \n",
       " ...     ...   ...  ..  ..  \n",
       " 4506    Day  2019  10  31  \n",
       " 4507    Day  2019  10  31  \n",
       " 4508    Day  2019  10  31  \n",
       " 4509  Night  2019  10  31  \n",
       " 4510  Night  2019  10  31  \n",
       " \n",
       " [4511 rows x 29 columns],\n",
       "       2  2020-09-25T23:19:55.000Z     Bronx   Bronx.1  NY  KLGA  70.0  70.0.1  \\\n",
       " 0     2  2020-10-15T12:17:30.000Z     Bronx     Bronx  NY  KLGA  71.0    71.0   \n",
       " 1     2  2020-09-30T12:50:00.000Z  New York  New York  NY  KNYC  66.0    66.0   \n",
       " 2     2  2020-11-10T10:43:00.000Z  Flushing    Queens  NY  KLGA  70.0    70.0   \n",
       " 3     2  2020-10-01T10:50:30.000Z  Brooklyn     Kings  NY  KJRB  67.0    67.0   \n",
       " 4     2  2020-12-12T02:07:10.000Z   Jamaica    Queens  NY  KJFK  43.0    40.0   \n",
       " ...  ..                       ...       ...       ...  ..   ...   ...     ...   \n",
       " 2636  2  2020-11-22T03:18:02.000Z     Bronx     Bronx  NY  KLGA  46.0    41.0   \n",
       " 2637  2  2020-11-30T12:02:36.000Z  Brooklyn     Kings  NY  KJRB  60.0     NaN   \n",
       " 2638  2  2020-12-29T18:08:30.000Z  New York  New York  NY  KNYC  35.0    31.0   \n",
       " 2639  2  2020-11-16T13:46:30.000Z  New York  New York  NY  KNYC  53.0    53.0   \n",
       " 2640  2  2020-09-10T17:44:02.000Z  Brooklyn     Kings  NY  KJFK  77.0    77.0   \n",
       " \n",
       "       76.0  10.0  ... false.7  false.8  false.9  false.10  false.11  Night  \\\n",
       " 0     51.0  10.0  ...   False     True    False     False     False    Day   \n",
       " 1     52.0  10.0  ...   False    False    False      True     False    Day   \n",
       " 2     61.0  10.0  ...   False    False    False     False     False    Day   \n",
       " 3     59.0  10.0  ...   False    False    False     False     False    Day   \n",
       " 4     97.0  10.0  ...   False    False    False     False     False  Night   \n",
       " ...    ...   ...  ...     ...      ...      ...       ...       ...    ...   \n",
       " 2636  51.0  10.0  ...   False    False    False     False     False  Night   \n",
       " 2637  90.0   3.0  ...   False    False    False      True     False    Day   \n",
       " 2638  37.0  10.0  ...    True    False    False      True     False  Night   \n",
       " 2639  35.0  10.0  ...   False    False    False     False     False    Day   \n",
       " 2640  89.0  10.0  ...   False     True     True     False     False    Day   \n",
       " \n",
       "       Night.1  2020   9  25  \n",
       " 0         Day  2020  10  15  \n",
       " 1         Day  2020   9  30  \n",
       " 2         Day  2020  11  10  \n",
       " 3         Day  2020  10   1  \n",
       " 4       Night  2020  12  12  \n",
       " ...       ...   ...  ..  ..  \n",
       " 2636    Night  2020  11  22  \n",
       " 2637      Day  2020  11  30  \n",
       " 2638    Night  2020  12  29  \n",
       " 2639      Day  2020  11  16  \n",
       " 2640      Day  2020   9  10  \n",
       " \n",
       " [2641 rows x 29 columns],\n",
       "       3  2019-11-01T04:40:38.000Z          Jamaica    Queens  NY  KJFK  49.0  \\\n",
       " 0     2  2019-11-01T04:45:35.000Z    Staten Island  Richmond  NY  KLDJ  47.0   \n",
       " 1     2  2019-11-01T05:06:34.000Z    Staten Island  Richmond  NY  KLDJ  46.0   \n",
       " 2     2  2019-11-01T05:20:32.000Z         Brooklyn     Kings  NY  KJRB  49.0   \n",
       " 3     2  2019-11-01T05:33:35.000Z    Richmond Hill    Queens  NY  KJFK  48.0   \n",
       " 4     2  2019-11-01T05:57:03.000Z         Brooklyn     Kings  NY  KJRB  47.0   \n",
       " ...  ..                       ...              ...       ...  ..   ...   ...   \n",
       " 5525  3  2019-04-03T19:16:40.000Z  Oakland Gardens    Queens  NY  KLGA  64.0   \n",
       " 5526  3  2019-04-03T19:18:38.000Z      Little Neck    Queens  NY  KLGA  64.0   \n",
       " 5527  2  2019-04-03T19:45:48.000Z         Brooklyn     Kings  NY  KJRB  63.0   \n",
       " 5528  2  2019-04-03T20:25:47.000Z         Brooklyn     Kings  NY  KJRB  62.0   \n",
       " 5529  3  2019-04-03T23:20:31.000Z            Bronx     Bronx  NY  KLGA  53.0   \n",
       " \n",
       "       40.0  64.0  10.0  ... false.8  false.9  false.10  false.11  false.12  \\\n",
       " 0     40.0  62.0  10.0  ...   False     True     False     False     False   \n",
       " 1     39.0  57.0  10.0  ...    True    False     False      True     False   \n",
       " 2     44.0  64.0  10.0  ...   False    False     False     False     False   \n",
       " 3     40.0  58.0  10.0  ...   False    False     False     False     False   \n",
       " 4     41.0  54.0  10.0  ...   False    False     False     False     False   \n",
       " ...    ...   ...   ...  ...     ...      ...       ...       ...       ...   \n",
       " 5525  64.0  15.0  10.0  ...   False    False     False     False     False   \n",
       " 5526  64.0  15.0  10.0  ...   False    False     False     False     False   \n",
       " 5527  63.0  14.0  10.0  ...   False     True     False     False     False   \n",
       " 5528  62.0  15.0  10.0  ...   False    False     False      True     False   \n",
       " 5529  53.0  22.0  10.0  ...   False    False     False      True     False   \n",
       " \n",
       "       Night  Night.1  2019  11  1  \n",
       " 0     Night    Night  2019  11  1  \n",
       " 1     Night    Night  2019  11  1  \n",
       " 2     Night    Night  2019  11  1  \n",
       " 3     Night    Night  2019  11  1  \n",
       " 4     Night    Night  2019  11  1  \n",
       " ...     ...      ...   ...  .. ..  \n",
       " 5525    Day      Day  2019   4  3  \n",
       " 5526    Day      Day  2019   4  3  \n",
       " 5527  Night      Day  2019   4  3  \n",
       " 5528  Night    Night  2019   4  3  \n",
       " 5529  Night    Night  2019   4  3  \n",
       " \n",
       " [5530 rows x 29 columns]]"
      ]
     },
     "execution_count": 95,
     "metadata": {},
     "output_type": "execute_result"
    }
   ],
   "source": [
    "header = \n",
    "nycdf = pd.DataFrame()"
   ]
  },
  {
   "cell_type": "code",
   "execution_count": null,
   "id": "d30e2422-5319-47f5-a134-806ea68733b6",
   "metadata": {},
   "outputs": [],
   "source": []
  }
 ],
 "metadata": {
  "kernelspec": {
   "display_name": "Python 3 (ipykernel)",
   "language": "python",
   "name": "python3"
  },
  "language_info": {
   "codemirror_mode": {
    "name": "ipython",
    "version": 3
   },
   "file_extension": ".py",
   "mimetype": "text/x-python",
   "name": "python",
   "nbconvert_exporter": "python",
   "pygments_lexer": "ipython3",
   "version": "3.11.6"
  }
 },
 "nbformat": 4,
 "nbformat_minor": 5
}
